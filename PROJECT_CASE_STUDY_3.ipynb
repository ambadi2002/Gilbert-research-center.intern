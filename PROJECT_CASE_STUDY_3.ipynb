{
  "nbformat": 4,
  "nbformat_minor": 0,
  "metadata": {
    "colab": {
      "provenance": []
    },
    "kernelspec": {
      "name": "python3",
      "display_name": "Python 3"
    },
    "language_info": {
      "name": "python"
    }
  },
  "cells": [
    {
      "cell_type": "markdown",
      "source": [
        "**PROJECT CASE STUDY 3**"
      ],
      "metadata": {
        "id": "fJUzGpp_VUl7"
      }
    },
    {
      "cell_type": "markdown",
      "source": [
        "Given :\n",
        "   \n",
        "\n",
        "*  200 X ray images are taken per day  \n",
        "*  probability of noice = 2% or 0.02\n",
        "\n"
      ],
      "metadata": {
        "id": "yb4WaZgoWBnE"
      }
    },
    {
      "cell_type": "markdown",
      "source": [
        "This is a Binomial problem\n",
        "    \n",
        "\n",
        "*   n=200\n",
        "*   p=0.02\n",
        "\n",
        "\n"
      ],
      "metadata": {
        "id": "Hdk9Vy82WaNU"
      }
    },
    {
      "cell_type": "code",
      "execution_count": 1,
      "metadata": {
        "id": "zljOEBf9VC4r"
      },
      "outputs": [],
      "source": [
        "n=200\n",
        "p=0.02"
      ]
    },
    {
      "cell_type": "markdown",
      "source": [
        "\n",
        "\n",
        "*   computing p(x=0)\n",
        "\n"
      ],
      "metadata": {
        "id": "ijeh_LA0XsBn"
      }
    },
    {
      "cell_type": "code",
      "source": [
        "from scipy.stats import binom"
      ],
      "metadata": {
        "id": "eKC7GPyfX6C1"
      },
      "execution_count": 3,
      "outputs": []
    },
    {
      "cell_type": "code",
      "source": [
        "p_x_0=binom.pmf(0,n,p)\n",
        "p_x_0"
      ],
      "metadata": {
        "colab": {
          "base_uri": "https://localhost:8080/"
        },
        "id": "UXPtyKonXl3t",
        "outputId": "6d1b7930-6b07-4a44-8ecf-e7314fc3ec50"
      },
      "execution_count": 5,
      "outputs": [
        {
          "output_type": "execute_result",
          "data": {
            "text/plain": [
              "0.017587946605721567"
            ]
          },
          "metadata": {},
          "execution_count": 5
        }
      ]
    },
    {
      "cell_type": "markdown",
      "source": [
        "\n",
        "\n",
        "*   computing p(x=1)\n",
        "\n"
      ],
      "metadata": {
        "id": "P4cucWQdYDoZ"
      }
    },
    {
      "cell_type": "code",
      "source": [
        "p_x_1=binom.pmf(1,n,p)\n",
        "p_x_1"
      ],
      "metadata": {
        "colab": {
          "base_uri": "https://localhost:8080/"
        },
        "id": "JH3LvJjGX3IL",
        "outputId": "6245ae7a-6a09-4e9c-cda1-e9a0d5e68235"
      },
      "execution_count": 7,
      "outputs": [
        {
          "output_type": "execute_result",
          "data": {
            "text/plain": [
              "0.07178753716621046"
            ]
          },
          "metadata": {},
          "execution_count": 7
        }
      ]
    },
    {
      "cell_type": "markdown",
      "source": [
        "**Probability of getting 2 or more defective X-rays**"
      ],
      "metadata": {
        "id": "v-DN9bEyYUuY"
      }
    },
    {
      "cell_type": "code",
      "source": [
        "p_x_2_or_more=1-binom.cdf(1,n,p)"
      ],
      "metadata": {
        "id": "oC-xs4rtYLZ9"
      },
      "execution_count": 9,
      "outputs": []
    },
    {
      "cell_type": "code",
      "source": [
        "print(f\"Probability of selecting two or more noise X-ray images: {p_x_2_or_more:.6f}\")\n"
      ],
      "metadata": {
        "colab": {
          "base_uri": "https://localhost:8080/"
        },
        "id": "IozTPt3VYbmy",
        "outputId": "7e742d9a-7d5e-47cf-b4e0-6fb1ea74501d"
      },
      "execution_count": 10,
      "outputs": [
        {
          "output_type": "stream",
          "name": "stdout",
          "text": [
            "Probability of selecting two or more noise X-ray images: 0.910625\n"
          ]
        }
      ]
    }
  ]
}