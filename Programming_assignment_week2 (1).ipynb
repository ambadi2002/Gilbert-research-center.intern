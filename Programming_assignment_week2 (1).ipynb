{
  "nbformat": 4,
  "nbformat_minor": 0,
  "metadata": {
    "colab": {
      "provenance": []
    },
    "kernelspec": {
      "name": "python3",
      "display_name": "Python 3"
    },
    "language_info": {
      "name": "python"
    }
  },
  "cells": [
    {
      "cell_type": "markdown",
      "source": [
        "Importing Libraries"
      ],
      "metadata": {
        "id": "UiCuVcr_2gKG"
      }
    },
    {
      "cell_type": "code",
      "execution_count": 1,
      "metadata": {
        "id": "gWMCEOXRoVxC"
      },
      "outputs": [],
      "source": [
        "import numpy as np"
      ]
    },
    {
      "cell_type": "markdown",
      "source": [
        "Defining a Matrix A & vector B"
      ],
      "metadata": {
        "id": "7IQCz0Seohq1"
      }
    },
    {
      "cell_type": "code",
      "source": [
        "A=np.array([[1,0,-1],\n",
        "         [0,-1,1],\n",
        "         [1,-1,0]])\n",
        "A"
      ],
      "metadata": {
        "colab": {
          "base_uri": "https://localhost:8080/"
        },
        "id": "VfXmCYqZocjy",
        "outputId": "bc6ab6c3-9522-43e2-d1ee-e2959fc1b872"
      },
      "execution_count": 42,
      "outputs": [
        {
          "output_type": "execute_result",
          "data": {
            "text/plain": [
              "array([[ 1,  0, -1],\n",
              "       [ 0, -1,  1],\n",
              "       [ 1, -1,  0]])"
            ]
          },
          "metadata": {},
          "execution_count": 42
        }
      ]
    },
    {
      "cell_type": "code",
      "source": [
        "B=np.array([0,-10,-10])\n",
        "B"
      ],
      "metadata": {
        "colab": {
          "base_uri": "https://localhost:8080/"
        },
        "id": "JHiX04SEoyU-",
        "outputId": "607d04f2-883f-487a-8307-5d81e7126f54"
      },
      "execution_count": 43,
      "outputs": [
        {
          "output_type": "execute_result",
          "data": {
            "text/plain": [
              "array([  0, -10, -10])"
            ]
          },
          "metadata": {},
          "execution_count": 43
        }
      ]
    },
    {
      "cell_type": "markdown",
      "source": [
        "Solving the Matrix AX=B"
      ],
      "metadata": {
        "id": "Rj1ADYlnpQPk"
      }
    },
    {
      "cell_type": "code",
      "source": [
        "#X=np.linalg.solve(A,B)\n",
        "#print(\"Solution (X):\", X)"
      ],
      "metadata": {
        "id": "mXZddFjs3soX"
      },
      "execution_count": 44,
      "outputs": []
    },
    {
      "cell_type": "markdown",
      "source": [
        "The matrix\n",
        "A is singular, meaning the system of equations does not have a unique solution. This suggests that the flows in the network have either no solution or infinitely many solutions (depending on the consistency of the system).\n",
        "\n"
      ],
      "metadata": {
        "id": "7VIl1PwV3wze"
      }
    },
    {
      "cell_type": "markdown",
      "source": [
        "rank(A)=rank([A∣B]), the system is consistent."
      ],
      "metadata": {
        "id": "s-pQKaGo5YEL"
      }
    },
    {
      "cell_type": "markdown",
      "source": [
        "If the system is consistent or if you are looking for the best approximate solution, use the pseudo-inverse of A to compute X:"
      ],
      "metadata": {
        "id": "jlUKtvqd5Zrj"
      }
    },
    {
      "cell_type": "code",
      "source": [
        "import numpy as np\n",
        "\n",
        "# Compute pseudo-inverse using np.linalg.pinv()\n",
        "X = np.linalg.pinv(A) @ B"
      ],
      "metadata": {
        "id": "xBg5Cpul5LDI"
      },
      "execution_count": 45,
      "outputs": []
    },
    {
      "cell_type": "markdown",
      "source": [
        "Compute Norms and Ranks"
      ],
      "metadata": {
        "id": "gfZVKeydpeiM"
      }
    },
    {
      "cell_type": "code",
      "source": [
        "norm_X=np.linalg.norm(X)\n",
        "norm_X"
      ],
      "metadata": {
        "colab": {
          "base_uri": "https://localhost:8080/"
        },
        "id": "RasUyLlppZTe",
        "outputId": "a7d43041-24c8-4ea5-c057-c3e40ee3d27d"
      },
      "execution_count": 46,
      "outputs": [
        {
          "output_type": "execute_result",
          "data": {
            "text/plain": [
              "8.16496580927726"
            ]
          },
          "metadata": {},
          "execution_count": 46
        }
      ]
    },
    {
      "cell_type": "code",
      "source": [
        "rank_A=np.linalg.matrix_rank(A)\n",
        "rank_A"
      ],
      "metadata": {
        "colab": {
          "base_uri": "https://localhost:8080/"
        },
        "id": "RlZ-0kbRqGrs",
        "outputId": "34e0e513-6ce1-4853-cfc9-eef3fda42066"
      },
      "execution_count": 47,
      "outputs": [
        {
          "output_type": "execute_result",
          "data": {
            "text/plain": [
              "2"
            ]
          },
          "metadata": {},
          "execution_count": 47
        }
      ]
    },
    {
      "cell_type": "code",
      "source": [
        "augmented_matrix = np.hstack((A, B.reshape(-1, 1)))  # Augmented matrix [A|B]\n"
      ],
      "metadata": {
        "id": "icbmbAjsqOCg"
      },
      "execution_count": 32,
      "outputs": []
    },
    {
      "cell_type": "code",
      "source": [
        "rank_augmented = np.linalg.matrix_rank(augmented_matrix)\n"
      ],
      "metadata": {
        "id": "PUsDTC4kqVtU"
      },
      "execution_count": 33,
      "outputs": []
    },
    {
      "cell_type": "code",
      "source": [
        "nullity_A = A.shape[1] - rank_A  # Nullity"
      ],
      "metadata": {
        "id": "Z_IUyX7aqXBV"
      },
      "execution_count": 34,
      "outputs": []
    },
    {
      "cell_type": "markdown",
      "source": [
        "Print results"
      ],
      "metadata": {
        "id": "6cBrRCq4q3Lp"
      }
    },
    {
      "cell_type": "code",
      "source": [
        "print(\"Norm of X:\", norm_X)\n",
        "print(\"Rank of A:\", rank_A)\n",
        "print(\"Rank of Augmented Matrix [A|B]:\", rank_augmented)\n",
        "print(\"Nullity of A:\", nullity_A)"
      ],
      "metadata": {
        "colab": {
          "base_uri": "https://localhost:8080/"
        },
        "id": "8aQQHwzAqbfa",
        "outputId": "7f7bfdd5-5544-4e84-fb1e-b2ac4cef9b98"
      },
      "execution_count": 35,
      "outputs": [
        {
          "output_type": "stream",
          "name": "stdout",
          "text": [
            "Norm of X: 8.16496580927726\n",
            "Rank of A: 2\n",
            "Rank of Augmented Matrix [A|B]: 2\n",
            "Nullity of A: 1\n"
          ]
        }
      ]
    },
    {
      "cell_type": "code",
      "source": [],
      "metadata": {
        "id": "6hUPSg_6qcEs"
      },
      "execution_count": null,
      "outputs": []
    }
  ]
}