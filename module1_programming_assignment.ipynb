{
  "nbformat": 4,
  "nbformat_minor": 0,
  "metadata": {
    "colab": {
      "provenance": []
    },
    "kernelspec": {
      "name": "python3",
      "display_name": "Python 3"
    },
    "language_info": {
      "name": "python"
    }
  },
  "cells": [
    {
      "cell_type": "markdown",
      "source": [
        "**IMPORTING LIBRARIES**\n",
        "\n",
        "\n",
        "\n"
      ],
      "metadata": {
        "id": "b6VxuQph2n1H"
      }
    },
    {
      "cell_type": "code",
      "source": [
        "import numpy as np\n",
        "import matplotlib.pyplot as plt\n",
        "from scipy.integrate import solve_ivp\n",
        "from math import log,pow"
      ],
      "metadata": {
        "id": "PNHeMz0LwALG"
      },
      "execution_count": 51,
      "outputs": []
    },
    {
      "cell_type": "markdown",
      "source": [
        "**Define the differential equation**"
      ],
      "metadata": {
        "id": "8cm02CtM43gg"
      }
    },
    {
      "cell_type": "code",
      "source": [
        "def e_coli_growth(x,y):\n",
        "  return pow(2,x)*log(2)"
      ],
      "metadata": {
        "id": "3y7Kp4Zr42uP"
      },
      "execution_count": 52,
      "outputs": []
    },
    {
      "cell_type": "markdown",
      "source": [
        "\n",
        "\n",
        "*   **Initial condition**\n",
        "\n"
      ],
      "metadata": {
        "id": "DSmt9EBZ6Pky"
      }
    },
    {
      "cell_type": "code",
      "source": [
        "y0=[1]  #y(0)=1"
      ],
      "metadata": {
        "id": "QnqSO2mV58Ju"
      },
      "execution_count": 54,
      "outputs": []
    },
    {
      "cell_type": "markdown",
      "source": [
        "\n",
        "\n",
        "*   **Time points**\n",
        "\n"
      ],
      "metadata": {
        "id": "_7BjwxoL6b6o"
      }
    },
    {
      "cell_type": "code",
      "source": [
        "time_points=[1,2,6,7,8,9,11,12]"
      ],
      "metadata": {
        "id": "Wmer5Dhu6gI6"
      },
      "execution_count": 55,
      "outputs": []
    },
    {
      "cell_type": "markdown",
      "source": [
        "\n",
        "\n",
        "*   **Solving the differential equation**\n",
        "\n"
      ],
      "metadata": {
        "id": "GBR6pZ1n6l4j"
      }
    },
    {
      "cell_type": "code",
      "source": [
        "solution = solve_ivp(e_coli_growth,[0,max(time_points)],y0,t_eval=time_points)"
      ],
      "metadata": {
        "id": "NUBWtt-p6wAm"
      },
      "execution_count": 56,
      "outputs": []
    },
    {
      "cell_type": "markdown",
      "source": [
        "\n",
        "\n",
        "*   **Exracting solution**\n",
        "\n"
      ],
      "metadata": {
        "id": "wKGJYgr07lxt"
      }
    },
    {
      "cell_type": "code",
      "source": [
        "time=solution.t\n",
        "population=solution.y[0]"
      ],
      "metadata": {
        "id": "_qbW6QM_rKqP"
      },
      "execution_count": 57,
      "outputs": []
    },
    {
      "cell_type": "markdown",
      "source": [
        "**Printing the tabulated data**"
      ],
      "metadata": {
        "id": "8StQD1V121ra"
      }
    },
    {
      "cell_type": "code",
      "source": [
        "print(\"Time (hours)\\tPopulation of E. coli\")\n",
        "for t, p in zip(time, population):\n",
        "    print(f\"{t:.1f}\\t\\t{p:.2f}\")"
      ],
      "metadata": {
        "colab": {
          "base_uri": "https://localhost:8080/"
        },
        "id": "NJB4fc8urUDQ",
        "outputId": "ee6fbb1d-a522-40e8-afec-041d426f271a"
      },
      "execution_count": 58,
      "outputs": [
        {
          "output_type": "stream",
          "name": "stdout",
          "text": [
            "Time (hours)\tPopulation of E. coli\n",
            "1.0\t\t2.00\n",
            "2.0\t\t4.04\n",
            "6.0\t\t64.71\n",
            "7.0\t\t127.21\n",
            "8.0\t\t255.58\n",
            "9.0\t\t517.82\n",
            "11.0\t\t2038.23\n",
            "12.0\t\t4096.25\n"
          ]
        }
      ]
    },
    {
      "cell_type": "markdown",
      "source": [
        "**Apply Sturges' Rule to determine the number of bins**"
      ],
      "metadata": {
        "id": "fM7MpGf13Iwo"
      }
    },
    {
      "cell_type": "code",
      "source": [
        "n_bins = int(np.ceil(1 + np.log2(len(population))))"
      ],
      "metadata": {
        "id": "UoXKmOh4rWWn"
      },
      "execution_count": 59,
      "outputs": []
    },
    {
      "cell_type": "markdown",
      "source": [
        "**Plot the histogram with relative frequency**"
      ],
      "metadata": {
        "id": "UC2OkAPf3QXJ"
      }
    },
    {
      "cell_type": "code",
      "source": [
        "plt.hist(population, bins=n_bins, density=True, edgecolor='black', alpha=0.7,color='green')\n",
        "plt.title(\"Histogram of E. coli Population Growth\")\n",
        "plt.xlabel(\"Population of E. coli\")\n",
        "plt.ylabel(\"Relative Frequency\")\n",
        "plt.grid(axis='y', linestyle='--', alpha=0.7)\n",
        "plt.show()"
      ],
      "metadata": {
        "colab": {
          "base_uri": "https://localhost:8080/",
          "height": 472
        },
        "id": "CVE7gTdWrXSm",
        "outputId": "1ee210f1-954f-4056-bf79-145877f174b9"
      },
      "execution_count": 62,
      "outputs": [
        {
          "output_type": "display_data",
          "data": {
            "text/plain": [
              "<Figure size 640x480 with 1 Axes>"
            ],
            "image/png": "[encoded data removed]"
          },
          "metadata": {}
        }
      ]
    }
  ]
}